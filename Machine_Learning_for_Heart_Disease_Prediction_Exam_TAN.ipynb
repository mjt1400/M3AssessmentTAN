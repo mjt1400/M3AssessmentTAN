{
  "cells": [
    {
      "cell_type": "markdown",
      "metadata": {
        "id": "t9GmfBkocFUB"
      },
      "source": [
        "# Machine Learning for Heart Disease Prediction"
      ]
    },
    {
      "cell_type": "markdown",
      "metadata": {
        "id": "ZIhcGj4_f1UP"
      },
      "source": [
        "## Import Libraries"
      ]
    },
    {
      "cell_type": "code",
      "execution_count": 59,
      "metadata": {
        "id": "U_NLHBUJcFUQ"
      },
      "outputs": [],
      "source": [
        "# Import needed libraries\n",
        "\n",
        "import pandas as pd\n",
        "import pickle\n",
        "import matplotlib.pyplot as plt\n",
        "import seaborn as sns\n",
        "\n",
        "from sklearn.metrics import confusion_matrix\n",
        "from sklearn.model_selection import train_test_split\n",
        "from sklearn.linear_model import LogisticRegression\n",
        "from sklearn.ensemble import RandomForestClassifier\n",
        "from sklearn.tree import DecisionTreeClassifier\n",
        "from sklearn.svm import SVC\n",
        "from sklearn.neural_network import MLPClassifier\n",
        "from sklearn.metrics import accuracy_score, precision_score, recall_score, f1_score\n",
        "from sklearn.preprocessing import StandardScaler\n",
        "from plotly.offline import iplot\n",
        "from sklearn.model_selection import train_test_split\n",
        "\n",
        "\n"
      ]
    },
    {
      "cell_type": "markdown",
      "metadata": {
        "id": "mE_Dv76wcFUM"
      },
      "source": [
        "## 1. Data Collection and Preparation"
      ]
    },
    {
      "cell_type": "code",
      "execution_count": 60,
      "metadata": {
        "id": "oW9GJfOkcFUb"
      },
      "outputs": [],
      "source": [
        "# Load the UCI Machine Learning Repository Dataset\n",
        "\n",
        "\n",
        "data_url = \"https://github.com/mjt1400/M3SummativeExam_TAN/raw/main/UCIdataset.csv\"\n",
        "df = pd.read_csv(data_url)\n"
      ]
    },
    {
      "cell_type": "markdown",
      "source": [
        "The Data was acquired from [Heart Disease dataset from the Cleveland Clinic Foundation AKA UCI Machine Learning Repository](https://archive.ics.uci.edu/ml/datasets/statlog+(heart))"
      ],
      "metadata": {
        "id": "B2niO_F8-Be9"
      }
    },
    {
      "cell_type": "code",
      "execution_count": 61,
      "metadata": {
        "colab": {
          "base_uri": "https://localhost:8080/"
        },
        "id": "nFuRDEzbcFUo",
        "outputId": "8f402631-38ee-49a9-ce10-034ea9f32bbe"
      },
      "outputs": [
        {
          "output_type": "execute_result",
          "data": {
            "text/plain": [
              "(270, 14)"
            ]
          },
          "metadata": {},
          "execution_count": 61
        }
      ],
      "source": [
        "df.shape"
      ]
    },
    {
      "cell_type": "code",
      "execution_count": 62,
      "metadata": {
        "colab": {
          "base_uri": "https://localhost:8080/"
        },
        "id": "_iqEu0qhcFUx",
        "outputId": "b7dbd5fe-05a0-4864-a722-9d0083b00648"
      },
      "outputs": [
        {
          "output_type": "stream",
          "name": "stdout",
          "text": [
            "<class 'pandas.core.frame.DataFrame'>\n",
            "RangeIndex: 270 entries, 0 to 269\n",
            "Data columns (total 14 columns):\n",
            " #   Column    Non-Null Count  Dtype  \n",
            "---  ------    --------------  -----  \n",
            " 0   age       270 non-null    int64  \n",
            " 1   sex       270 non-null    int64  \n",
            " 2   cp        270 non-null    int64  \n",
            " 3   trestbps  270 non-null    int64  \n",
            " 4   chol      270 non-null    int64  \n",
            " 5   fbs       270 non-null    int64  \n",
            " 6   restecg   270 non-null    int64  \n",
            " 7   thalach   270 non-null    int64  \n",
            " 8   exang     270 non-null    int64  \n",
            " 9   oldpeak   270 non-null    float64\n",
            " 10  slope     270 non-null    int64  \n",
            " 11  ca        270 non-null    int64  \n",
            " 12  thal      270 non-null    int64  \n",
            " 13  target    270 non-null    int64  \n",
            "dtypes: float64(1), int64(13)\n",
            "memory usage: 29.7 KB\n"
          ]
        }
      ],
      "source": [
        "df.info()"
      ]
    },
    {
      "cell_type": "code",
      "execution_count": 63,
      "metadata": {
        "colab": {
          "base_uri": "https://localhost:8080/",
          "height": 300
        },
        "id": "k_nxZ3W2cFU7",
        "outputId": "cfda8aad-b3e6-4eba-f3db-dda662b502ca"
      },
      "outputs": [
        {
          "output_type": "execute_result",
          "data": {
            "text/plain": [
              "              age         sex          cp    trestbps        chol         fbs  \\\n",
              "count  270.000000  270.000000  270.000000  270.000000  270.000000  270.000000   \n",
              "mean    54.433333    0.677778    3.174074  131.344444  249.659259    0.148148   \n",
              "std      9.109067    0.468195    0.950090   17.861608   51.686237    0.355906   \n",
              "min     29.000000    0.000000    1.000000   94.000000  126.000000    0.000000   \n",
              "25%     48.000000    0.000000    3.000000  120.000000  213.000000    0.000000   \n",
              "50%     55.000000    1.000000    3.000000  130.000000  245.000000    0.000000   \n",
              "75%     61.000000    1.000000    4.000000  140.000000  280.000000    0.000000   \n",
              "max     77.000000    1.000000    4.000000  200.000000  564.000000    1.000000   \n",
              "\n",
              "          restecg     thalach       exang    oldpeak       slope          ca  \\\n",
              "count  270.000000  270.000000  270.000000  270.00000  270.000000  270.000000   \n",
              "mean     1.022222  149.677778    0.329630    1.05000    1.585185    0.670370   \n",
              "std      0.997891   23.165717    0.470952    1.14521    0.614390    0.943896   \n",
              "min      0.000000   71.000000    0.000000    0.00000    1.000000    0.000000   \n",
              "25%      0.000000  133.000000    0.000000    0.00000    1.000000    0.000000   \n",
              "50%      2.000000  153.500000    0.000000    0.80000    2.000000    0.000000   \n",
              "75%      2.000000  166.000000    1.000000    1.60000    2.000000    1.000000   \n",
              "max      2.000000  202.000000    1.000000    6.20000    3.000000    3.000000   \n",
              "\n",
              "             thal      target  \n",
              "count  270.000000  270.000000  \n",
              "mean     4.696296    1.444444  \n",
              "std      1.940659    0.497827  \n",
              "min      3.000000    1.000000  \n",
              "25%      3.000000    1.000000  \n",
              "50%      3.000000    1.000000  \n",
              "75%      7.000000    2.000000  \n",
              "max      7.000000    2.000000  "
            ],
            "text/html": [
              "\n",
              "  <div id=\"df-59e47306-368e-4fb8-91bc-1d165a0d8b14\">\n",
              "    <div class=\"colab-df-container\">\n",
              "      <div>\n",
              "<style scoped>\n",
              "    .dataframe tbody tr th:only-of-type {\n",
              "        vertical-align: middle;\n",
              "    }\n",
              "\n",
              "    .dataframe tbody tr th {\n",
              "        vertical-align: top;\n",
              "    }\n",
              "\n",
              "    .dataframe thead th {\n",
              "        text-align: right;\n",
              "    }\n",
              "</style>\n",
              "<table border=\"1\" class=\"dataframe\">\n",
              "  <thead>\n",
              "    <tr style=\"text-align: right;\">\n",
              "      <th></th>\n",
              "      <th>age</th>\n",
              "      <th>sex</th>\n",
              "      <th>cp</th>\n",
              "      <th>trestbps</th>\n",
              "      <th>chol</th>\n",
              "      <th>fbs</th>\n",
              "      <th>restecg</th>\n",
              "      <th>thalach</th>\n",
              "      <th>exang</th>\n",
              "      <th>oldpeak</th>\n",
              "      <th>slope</th>\n",
              "      <th>ca</th>\n",
              "      <th>thal</th>\n",
              "      <th>target</th>\n",
              "    </tr>\n",
              "  </thead>\n",
              "  <tbody>\n",
              "    <tr>\n",
              "      <th>count</th>\n",
              "      <td>270.000000</td>\n",
              "      <td>270.000000</td>\n",
              "      <td>270.000000</td>\n",
              "      <td>270.000000</td>\n",
              "      <td>270.000000</td>\n",
              "      <td>270.000000</td>\n",
              "      <td>270.000000</td>\n",
              "      <td>270.000000</td>\n",
              "      <td>270.000000</td>\n",
              "      <td>270.00000</td>\n",
              "      <td>270.000000</td>\n",
              "      <td>270.000000</td>\n",
              "      <td>270.000000</td>\n",
              "      <td>270.000000</td>\n",
              "    </tr>\n",
              "    <tr>\n",
              "      <th>mean</th>\n",
              "      <td>54.433333</td>\n",
              "      <td>0.677778</td>\n",
              "      <td>3.174074</td>\n",
              "      <td>131.344444</td>\n",
              "      <td>249.659259</td>\n",
              "      <td>0.148148</td>\n",
              "      <td>1.022222</td>\n",
              "      <td>149.677778</td>\n",
              "      <td>0.329630</td>\n",
              "      <td>1.05000</td>\n",
              "      <td>1.585185</td>\n",
              "      <td>0.670370</td>\n",
              "      <td>4.696296</td>\n",
              "      <td>1.444444</td>\n",
              "    </tr>\n",
              "    <tr>\n",
              "      <th>std</th>\n",
              "      <td>9.109067</td>\n",
              "      <td>0.468195</td>\n",
              "      <td>0.950090</td>\n",
              "      <td>17.861608</td>\n",
              "      <td>51.686237</td>\n",
              "      <td>0.355906</td>\n",
              "      <td>0.997891</td>\n",
              "      <td>23.165717</td>\n",
              "      <td>0.470952</td>\n",
              "      <td>1.14521</td>\n",
              "      <td>0.614390</td>\n",
              "      <td>0.943896</td>\n",
              "      <td>1.940659</td>\n",
              "      <td>0.497827</td>\n",
              "    </tr>\n",
              "    <tr>\n",
              "      <th>min</th>\n",
              "      <td>29.000000</td>\n",
              "      <td>0.000000</td>\n",
              "      <td>1.000000</td>\n",
              "      <td>94.000000</td>\n",
              "      <td>126.000000</td>\n",
              "      <td>0.000000</td>\n",
              "      <td>0.000000</td>\n",
              "      <td>71.000000</td>\n",
              "      <td>0.000000</td>\n",
              "      <td>0.00000</td>\n",
              "      <td>1.000000</td>\n",
              "      <td>0.000000</td>\n",
              "      <td>3.000000</td>\n",
              "      <td>1.000000</td>\n",
              "    </tr>\n",
              "    <tr>\n",
              "      <th>25%</th>\n",
              "      <td>48.000000</td>\n",
              "      <td>0.000000</td>\n",
              "      <td>3.000000</td>\n",
              "      <td>120.000000</td>\n",
              "      <td>213.000000</td>\n",
              "      <td>0.000000</td>\n",
              "      <td>0.000000</td>\n",
              "      <td>133.000000</td>\n",
              "      <td>0.000000</td>\n",
              "      <td>0.00000</td>\n",
              "      <td>1.000000</td>\n",
              "      <td>0.000000</td>\n",
              "      <td>3.000000</td>\n",
              "      <td>1.000000</td>\n",
              "    </tr>\n",
              "    <tr>\n",
              "      <th>50%</th>\n",
              "      <td>55.000000</td>\n",
              "      <td>1.000000</td>\n",
              "      <td>3.000000</td>\n",
              "      <td>130.000000</td>\n",
              "      <td>245.000000</td>\n",
              "      <td>0.000000</td>\n",
              "      <td>2.000000</td>\n",
              "      <td>153.500000</td>\n",
              "      <td>0.000000</td>\n",
              "      <td>0.80000</td>\n",
              "      <td>2.000000</td>\n",
              "      <td>0.000000</td>\n",
              "      <td>3.000000</td>\n",
              "      <td>1.000000</td>\n",
              "    </tr>\n",
              "    <tr>\n",
              "      <th>75%</th>\n",
              "      <td>61.000000</td>\n",
              "      <td>1.000000</td>\n",
              "      <td>4.000000</td>\n",
              "      <td>140.000000</td>\n",
              "      <td>280.000000</td>\n",
              "      <td>0.000000</td>\n",
              "      <td>2.000000</td>\n",
              "      <td>166.000000</td>\n",
              "      <td>1.000000</td>\n",
              "      <td>1.60000</td>\n",
              "      <td>2.000000</td>\n",
              "      <td>1.000000</td>\n",
              "      <td>7.000000</td>\n",
              "      <td>2.000000</td>\n",
              "    </tr>\n",
              "    <tr>\n",
              "      <th>max</th>\n",
              "      <td>77.000000</td>\n",
              "      <td>1.000000</td>\n",
              "      <td>4.000000</td>\n",
              "      <td>200.000000</td>\n",
              "      <td>564.000000</td>\n",
              "      <td>1.000000</td>\n",
              "      <td>2.000000</td>\n",
              "      <td>202.000000</td>\n",
              "      <td>1.000000</td>\n",
              "      <td>6.20000</td>\n",
              "      <td>3.000000</td>\n",
              "      <td>3.000000</td>\n",
              "      <td>7.000000</td>\n",
              "      <td>2.000000</td>\n",
              "    </tr>\n",
              "  </tbody>\n",
              "</table>\n",
              "</div>\n",
              "      <button class=\"colab-df-convert\" onclick=\"convertToInteractive('df-59e47306-368e-4fb8-91bc-1d165a0d8b14')\"\n",
              "              title=\"Convert this dataframe to an interactive table.\"\n",
              "              style=\"display:none;\">\n",
              "        \n",
              "  <svg xmlns=\"http://www.w3.org/2000/svg\" height=\"24px\"viewBox=\"0 0 24 24\"\n",
              "       width=\"24px\">\n",
              "    <path d=\"M0 0h24v24H0V0z\" fill=\"none\"/>\n",
              "    <path d=\"M18.56 5.44l.94 2.06.94-2.06 2.06-.94-2.06-.94-.94-2.06-.94 2.06-2.06.94zm-11 1L8.5 8.5l.94-2.06 2.06-.94-2.06-.94L8.5 2.5l-.94 2.06-2.06.94zm10 10l.94 2.06.94-2.06 2.06-.94-2.06-.94-.94-2.06-.94 2.06-2.06.94z\"/><path d=\"M17.41 7.96l-1.37-1.37c-.4-.4-.92-.59-1.43-.59-.52 0-1.04.2-1.43.59L10.3 9.45l-7.72 7.72c-.78.78-.78 2.05 0 2.83L4 21.41c.39.39.9.59 1.41.59.51 0 1.02-.2 1.41-.59l7.78-7.78 2.81-2.81c.8-.78.8-2.07 0-2.86zM5.41 20L4 18.59l7.72-7.72 1.47 1.35L5.41 20z\"/>\n",
              "  </svg>\n",
              "      </button>\n",
              "      \n",
              "  <style>\n",
              "    .colab-df-container {\n",
              "      display:flex;\n",
              "      flex-wrap:wrap;\n",
              "      gap: 12px;\n",
              "    }\n",
              "\n",
              "    .colab-df-convert {\n",
              "      background-color: #E8F0FE;\n",
              "      border: none;\n",
              "      border-radius: 50%;\n",
              "      cursor: pointer;\n",
              "      display: none;\n",
              "      fill: #1967D2;\n",
              "      height: 32px;\n",
              "      padding: 0 0 0 0;\n",
              "      width: 32px;\n",
              "    }\n",
              "\n",
              "    .colab-df-convert:hover {\n",
              "      background-color: #E2EBFA;\n",
              "      box-shadow: 0px 1px 2px rgba(60, 64, 67, 0.3), 0px 1px 3px 1px rgba(60, 64, 67, 0.15);\n",
              "      fill: #174EA6;\n",
              "    }\n",
              "\n",
              "    [theme=dark] .colab-df-convert {\n",
              "      background-color: #3B4455;\n",
              "      fill: #D2E3FC;\n",
              "    }\n",
              "\n",
              "    [theme=dark] .colab-df-convert:hover {\n",
              "      background-color: #434B5C;\n",
              "      box-shadow: 0px 1px 3px 1px rgba(0, 0, 0, 0.15);\n",
              "      filter: drop-shadow(0px 1px 2px rgba(0, 0, 0, 0.3));\n",
              "      fill: #FFFFFF;\n",
              "    }\n",
              "  </style>\n",
              "\n",
              "      <script>\n",
              "        const buttonEl =\n",
              "          document.querySelector('#df-59e47306-368e-4fb8-91bc-1d165a0d8b14 button.colab-df-convert');\n",
              "        buttonEl.style.display =\n",
              "          google.colab.kernel.accessAllowed ? 'block' : 'none';\n",
              "\n",
              "        async function convertToInteractive(key) {\n",
              "          const element = document.querySelector('#df-59e47306-368e-4fb8-91bc-1d165a0d8b14');\n",
              "          const dataTable =\n",
              "            await google.colab.kernel.invokeFunction('convertToInteractive',\n",
              "                                                     [key], {});\n",
              "          if (!dataTable) return;\n",
              "\n",
              "          const docLinkHtml = 'Like what you see? Visit the ' +\n",
              "            '<a target=\"_blank\" href=https://colab.research.google.com/notebooks/data_table.ipynb>data table notebook</a>'\n",
              "            + ' to learn more about interactive tables.';\n",
              "          element.innerHTML = '';\n",
              "          dataTable['output_type'] = 'display_data';\n",
              "          await google.colab.output.renderOutput(dataTable, element);\n",
              "          const docLink = document.createElement('div');\n",
              "          docLink.innerHTML = docLinkHtml;\n",
              "          element.appendChild(docLink);\n",
              "        }\n",
              "      </script>\n",
              "    </div>\n",
              "  </div>\n",
              "  "
            ]
          },
          "metadata": {},
          "execution_count": 63
        }
      ],
      "source": [
        "df.describe()"
      ]
    },
    {
      "cell_type": "code",
      "execution_count": 64,
      "metadata": {
        "colab": {
          "base_uri": "https://localhost:8080/"
        },
        "id": "rlYnisPTf1US",
        "outputId": "393a1d9e-8efd-40d4-a6a5-b5d1d7c8811a"
      },
      "outputs": [
        {
          "output_type": "execute_result",
          "data": {
            "text/plain": [
              "age         0\n",
              "sex         0\n",
              "cp          0\n",
              "trestbps    0\n",
              "chol        0\n",
              "fbs         0\n",
              "restecg     0\n",
              "thalach     0\n",
              "exang       0\n",
              "oldpeak     0\n",
              "slope       0\n",
              "ca          0\n",
              "thal        0\n",
              "target      0\n",
              "dtype: int64"
            ]
          },
          "metadata": {},
          "execution_count": 64
        }
      ],
      "source": [
        "#Check null values\n",
        "df.isnull().sum()"
      ]
    },
    {
      "cell_type": "code",
      "execution_count": 65,
      "metadata": {
        "colab": {
          "base_uri": "https://localhost:8080/"
        },
        "id": "nWs03-Jof1US",
        "outputId": "9955656b-305f-45ac-8da5-dbbacae5b7db"
      },
      "outputs": [
        {
          "output_type": "execute_result",
          "data": {
            "text/plain": [
              "1    150\n",
              "2    120\n",
              "Name: target, dtype: int64"
            ]
          },
          "metadata": {},
          "execution_count": 65
        }
      ],
      "source": [
        "df['target'].value_counts()"
      ]
    },
    {
      "cell_type": "code",
      "execution_count": 66,
      "metadata": {
        "colab": {
          "base_uri": "https://localhost:8080/"
        },
        "id": "PfaEpoBMf1UT",
        "outputId": "74a49f5f-82d5-4fce-f073-ac64836c6bcd"
      },
      "outputs": [
        {
          "output_type": "execute_result",
          "data": {
            "text/plain": [
              "1    55.555556\n",
              "2    44.444444\n",
              "Name: target, dtype: float64"
            ]
          },
          "metadata": {},
          "execution_count": 66
        }
      ],
      "source": [
        "# Percentage of patients have and do not have heart disease\n",
        "df['target'].value_counts()/df.shape[0]*100 "
      ]
    },
    {
      "cell_type": "code",
      "execution_count": 67,
      "metadata": {
        "colab": {
          "base_uri": "https://localhost:8080/",
          "height": 428
        },
        "id": "i2JKD6p5f1UT",
        "outputId": "ed5d1209-6339-4b81-a52b-f9d92a05a690"
      },
      "outputs": [
        {
          "output_type": "display_data",
          "data": {
            "text/plain": [
              "<Figure size 640x480 with 1 Axes>"
            ],
            "image/png": "[encoded data removed]"
          },
          "metadata": {}
        }
      ],
      "source": [
        "# Create a plot to display the percentage of the positive and negative heart disease \n",
        "labels = ['yes', 'No']\n",
        "values = df['target'].value_counts().values\n",
        "\n",
        "plt.pie(values, labels=labels, autopct='%1.0f%%')\n",
        "plt.title('Heart Disease')\n",
        "plt.show()\n"
      ]
    },
    {
      "cell_type": "code",
      "execution_count": 68,
      "metadata": {
        "colab": {
          "base_uri": "https://localhost:8080/"
        },
        "id": "e6HHEm-yf1UV",
        "outputId": "46af97e3-00cc-4489-b794-c3e82902e55f"
      },
      "outputs": [
        {
          "output_type": "stream",
          "name": "stdout",
          "text": [
            "Min age of people who do not have heart disease:  29\n",
            "Max age of people who do not have heart disease:  76\n",
            "Average age of people who do not have heart disease:  52.70666666666666\n"
          ]
        }
      ],
      "source": [
        "# Get min, max and average of the age of the people do not have heart diseas\n",
        "print('Min age of people who do not have heart disease: ', min(df[df['target'] == 1]['age']))\n",
        "print('Max age of people who do not have heart disease: ', max(df[df['target'] == 1]['age']))\n",
        "print('Average age of people who do not have heart disease: ', df[df['target'] == 1]['age'].mean())"
      ]
    },
    {
      "cell_type": "code",
      "execution_count": 69,
      "metadata": {
        "colab": {
          "base_uri": "https://localhost:8080/"
        },
        "id": "IQ8PMcDof1UV",
        "outputId": "6b599ba3-5bb5-4055-fed4-c9e3f9722e84"
      },
      "outputs": [
        {
          "output_type": "stream",
          "name": "stdout",
          "text": [
            "Min age of people who have heart disease:  35\n",
            "Max age of people who have heart disease:  77\n",
            "Average age of people who have heart disease:  56.59166666666667\n"
          ]
        }
      ],
      "source": [
        "# Get min, max and average of the age of the people have heart diseas\n",
        "print('Min age of people who have heart disease: ', min(df[df['target'] == 2]['age']))\n",
        "print('Max age of people who have heart disease: ', max(df[df['target'] == 2]['age']))\n",
        "print('Average age of people who have heart disease: ', df[df['target'] == 2]['age'].mean())"
      ]
    },
    {
      "cell_type": "markdown",
      "metadata": {
        "id": "IzgvxxTRf1UV"
      },
      "source": [
        "### Males and Females in the Dataset\n"
      ]
    },
    {
      "cell_type": "code",
      "execution_count": 70,
      "metadata": {
        "colab": {
          "base_uri": "https://localhost:8080/",
          "height": 410
        },
        "id": "UKPkqDLtf1UV",
        "outputId": "87520074-0282-43e9-a7a8-3a317010e02a"
      },
      "outputs": [
        {
          "output_type": "display_data",
          "data": {
            "text/plain": [
              "<Figure size 600x400 with 1 Axes>"
            ],
            "image/png": "[encoded data removed]"
          },
          "metadata": {}
        }
      ],
      "source": [
        "# Number of males and females\n",
        "F = df[df['sex'] == 0].count()['target']\n",
        "M = df[df['sex'] == 1].count()['target']\n",
        "\n",
        "# Create a plot\n",
        "figure, ax = plt.subplots(figsize = (6, 4))\n",
        "ax.bar(x = ['Female', 'Male'], height = [F, M])\n",
        "plt.xlabel('Gender')\n",
        "plt.title('Number of Males and Females in the dataset')\n",
        "plt.show()"
      ]
    },
    {
      "cell_type": "markdown",
      "metadata": {
        "id": "r8_968nncFXF"
      },
      "source": [
        "## 3. Modeling"
      ]
    },
    {
      "cell_type": "markdown",
      "metadata": {
        "id": "sGvsBzIBf1Ul"
      },
      "source": [
        "### Building the Model, Model Evaluation, and Hyperparameter Tuning."
      ]
    },
    {
      "cell_type": "code",
      "execution_count": 71,
      "metadata": {
        "id": "Cy3HU1Nbf1Ul",
        "colab": {
          "base_uri": "https://localhost:8080/"
        },
        "outputId": "db8bf70a-bfec-46c5-c9ca-53f10996ab3b"
      },
      "outputs": [
        {
          "output_type": "stream",
          "name": "stderr",
          "text": [
            "/usr/local/lib/python3.10/dist-packages/sklearn/neural_network/_multilayer_perceptron.py:686: ConvergenceWarning:\n",
            "\n",
            "Stochastic Optimizer: Maximum iterations (200) reached and the optimization hasn't converged yet.\n",
            "\n",
            "/usr/local/lib/python3.10/dist-packages/sklearn/neural_network/_multilayer_perceptron.py:686: ConvergenceWarning:\n",
            "\n",
            "Stochastic Optimizer: Maximum iterations (200) reached and the optimization hasn't converged yet.\n",
            "\n",
            "/usr/local/lib/python3.10/dist-packages/sklearn/neural_network/_multilayer_perceptron.py:686: ConvergenceWarning:\n",
            "\n",
            "Stochastic Optimizer: Maximum iterations (200) reached and the optimization hasn't converged yet.\n",
            "\n",
            "/usr/local/lib/python3.10/dist-packages/sklearn/neural_network/_multilayer_perceptron.py:686: ConvergenceWarning:\n",
            "\n",
            "Stochastic Optimizer: Maximum iterations (200) reached and the optimization hasn't converged yet.\n",
            "\n",
            "/usr/local/lib/python3.10/dist-packages/sklearn/neural_network/_multilayer_perceptron.py:686: ConvergenceWarning:\n",
            "\n",
            "Stochastic Optimizer: Maximum iterations (200) reached and the optimization hasn't converged yet.\n",
            "\n",
            "/usr/local/lib/python3.10/dist-packages/sklearn/neural_network/_multilayer_perceptron.py:686: ConvergenceWarning:\n",
            "\n",
            "Stochastic Optimizer: Maximum iterations (200) reached and the optimization hasn't converged yet.\n",
            "\n",
            "/usr/local/lib/python3.10/dist-packages/sklearn/neural_network/_multilayer_perceptron.py:686: ConvergenceWarning:\n",
            "\n",
            "Stochastic Optimizer: Maximum iterations (200) reached and the optimization hasn't converged yet.\n",
            "\n",
            "/usr/local/lib/python3.10/dist-packages/sklearn/neural_network/_multilayer_perceptron.py:686: ConvergenceWarning:\n",
            "\n",
            "Stochastic Optimizer: Maximum iterations (200) reached and the optimization hasn't converged yet.\n",
            "\n",
            "/usr/local/lib/python3.10/dist-packages/sklearn/neural_network/_multilayer_perceptron.py:686: ConvergenceWarning:\n",
            "\n",
            "Stochastic Optimizer: Maximum iterations (200) reached and the optimization hasn't converged yet.\n",
            "\n",
            "/usr/local/lib/python3.10/dist-packages/sklearn/neural_network/_multilayer_perceptron.py:686: ConvergenceWarning:\n",
            "\n",
            "Stochastic Optimizer: Maximum iterations (200) reached and the optimization hasn't converged yet.\n",
            "\n",
            "/usr/local/lib/python3.10/dist-packages/sklearn/neural_network/_multilayer_perceptron.py:686: ConvergenceWarning:\n",
            "\n",
            "Stochastic Optimizer: Maximum iterations (200) reached and the optimization hasn't converged yet.\n",
            "\n",
            "/usr/local/lib/python3.10/dist-packages/sklearn/neural_network/_multilayer_perceptron.py:686: ConvergenceWarning:\n",
            "\n",
            "Stochastic Optimizer: Maximum iterations (200) reached and the optimization hasn't converged yet.\n",
            "\n",
            "/usr/local/lib/python3.10/dist-packages/sklearn/neural_network/_multilayer_perceptron.py:686: ConvergenceWarning:\n",
            "\n",
            "Stochastic Optimizer: Maximum iterations (200) reached and the optimization hasn't converged yet.\n",
            "\n",
            "/usr/local/lib/python3.10/dist-packages/sklearn/neural_network/_multilayer_perceptron.py:686: ConvergenceWarning:\n",
            "\n",
            "Stochastic Optimizer: Maximum iterations (200) reached and the optimization hasn't converged yet.\n",
            "\n",
            "/usr/local/lib/python3.10/dist-packages/sklearn/neural_network/_multilayer_perceptron.py:686: ConvergenceWarning:\n",
            "\n",
            "Stochastic Optimizer: Maximum iterations (200) reached and the optimization hasn't converged yet.\n",
            "\n"
          ]
        },
        {
          "output_type": "stream",
          "name": "stdout",
          "text": [
            "Logistic Regression:\n",
            "Accuracy: 0.9074074074074074\n",
            "Precision: 0.9117647058823529\n",
            "Recall: 0.9393939393939394\n",
            "F1 Score: 0.9253731343283583\n",
            "Confusion Matrix:\n",
            "[[31  2]\n",
            " [ 3 18]]\n",
            "\n",
            "Random Forest:\n",
            "Accuracy: 0.8703703703703703\n",
            "Precision: 0.8611111111111112\n",
            "Recall: 0.9393939393939394\n",
            "F1 Score: 0.8985507246376813\n",
            "Confusion Matrix:\n",
            "[[31  2]\n",
            " [ 5 16]]\n",
            "\n",
            "Decision Tree:\n",
            "Accuracy: 0.6851851851851852\n",
            "Precision: 0.7857142857142857\n",
            "Recall: 0.6666666666666666\n",
            "F1 Score: 0.721311475409836\n",
            "Confusion Matrix:\n",
            "[[22 11]\n",
            " [ 6 15]]\n",
            "\n",
            "SVM:\n",
            "Accuracy: 0.8888888888888888\n",
            "Precision: 0.8857142857142857\n",
            "Recall: 0.9393939393939394\n",
            "F1 Score: 0.9117647058823529\n",
            "Confusion Matrix:\n",
            "[[31  2]\n",
            " [ 4 17]]\n",
            "\n",
            "Neural Network:\n",
            "Accuracy: 0.8888888888888888\n",
            "Precision: 0.8857142857142857\n",
            "Recall: 0.9393939393939394\n",
            "F1 Score: 0.9117647058823529\n",
            "Confusion Matrix:\n",
            "[[31  2]\n",
            " [ 4 17]]\n",
            "\n",
            "Best Model: Logistic Regression\n"
          ]
        },
        {
          "output_type": "stream",
          "name": "stderr",
          "text": [
            "/usr/local/lib/python3.10/dist-packages/sklearn/neural_network/_multilayer_perceptron.py:686: ConvergenceWarning:\n",
            "\n",
            "Stochastic Optimizer: Maximum iterations (200) reached and the optimization hasn't converged yet.\n",
            "\n"
          ]
        }
      ],
      "source": [
        "from sklearn.model_selection import GridSearchCV\n",
        "\n",
        "# Splitting the data into features (X) and the target variable (y)\n",
        "X = df.drop(columns=['target'])  # Extracting the features by dropping the 'target' column\n",
        "y = df['target']  # Extracting the target variable\n",
        "\n",
        "# Scale the features\n",
        "scaler = StandardScaler()\n",
        "X_scaled = scaler.fit_transform(X)\n",
        "\n",
        "# Split the scaled data into training and test sets\n",
        "X_train_scaled, X_test_scaled, y_train, y_test = train_test_split(X_scaled, y, test_size=0.2, random_state=42)\n",
        "\n",
        "# Create a dictionary that will hold the performance metrics for each model.\n",
        "model_metrics = {}\n",
        "\n",
        "# Models with parameter grids for tuning\n",
        "models = {\n",
        "    \"Logistic Regression\": (LogisticRegression(random_state=42), {}),\n",
        "    \"Random Forest\": (RandomForestClassifier(random_state=42), {'n_estimators': [100, 200, 300]}),\n",
        "    \"Decision Tree\": (DecisionTreeClassifier(random_state=42), {}),\n",
        "    \"SVM\": (SVC(random_state=42), {'C': [0.1, 1, 10]}),\n",
        "    \"Neural Network\": (MLPClassifier(random_state=42), {'hidden_layer_sizes': [(50,), (100,), (200,)]})\n",
        "}\n",
        "\n",
        "for model_name, (model, param_grid) in models.items():\n",
        "    # Perform parameter tuning and cross-validation\n",
        "    grid_search = GridSearchCV(model, param_grid, cv=5)  # Use 5-fold cross-validation\n",
        "    grid_search.fit(X_train_scaled, y_train)\n",
        "    \n",
        "    # Get the best model with optimized parameters\n",
        "    best_model = grid_search.best_estimator_\n",
        "    \n",
        "    # Predict on the test set\n",
        "    y_pred = best_model.predict(X_test_scaled)\n",
        "    \n",
        "    # Calculate performance metrics\n",
        "    metrics = {\n",
        "        \"Accuracy\": accuracy_score(y_test, y_pred),\n",
        "        \"Precision\": precision_score(y_test, y_pred),\n",
        "        \"Recall\": recall_score(y_test, y_pred),\n",
        "        \"F1 Score\": f1_score(y_test, y_pred)\n",
        "    }\n",
        "    \n",
        "    # Calculate confusion matrix\n",
        "    cm = confusion_matrix(y_test, y_pred)\n",
        "    \n",
        "    # Store the metrics and confusion matrix in the dictionary\n",
        "    model_metrics[model_name] = {\n",
        "        \"Metrics\": metrics,\n",
        "        \"Confusion Matrix\": cm\n",
        "    }\n",
        "\n",
        "# Find the model with the highest accuracy\n",
        "best_model_name = max(model_metrics, key=lambda x: model_metrics[x][\"Metrics\"][\"Accuracy\"])\n",
        "\n",
        "# Print the performance metrics and confusion matrix for each model\n",
        "for model, metrics in model_metrics.items():\n",
        "    print(f\"{model}:\")\n",
        "    print(f\"Accuracy: {metrics['Metrics']['Accuracy']}\")\n",
        "    print(f\"Precision: {metrics['Metrics']['Precision']}\")\n",
        "    print(f\"Recall: {metrics['Metrics']['Recall']}\")\n",
        "    print(f\"F1 Score: {metrics['Metrics']['F1 Score']}\")\n",
        "    print(\"Confusion Matrix:\")\n",
        "    print(metrics['Confusion Matrix'])\n",
        "    print()\n",
        "\n",
        "# Save the best model to a file in pkl format\n",
        "model_filename = \"model.pkl\"\n",
        "with open(model_filename, \"wb\") as file:\n",
        "    pickle.dump(models[best_model_name][0], file)\n",
        "\n",
        "print(\"Best Model:\", best_model_name)\n"
      ]
    }
  ],
  "metadata": {
    "colab": {
      "provenance": []
    },
    "kernelspec": {
      "display_name": "Python 3",
      "language": "python",
      "name": "python3"
    },
    "language_info": {
      "codemirror_mode": {
        "name": "ipython",
        "version": 3
      },
      "file_extension": ".py",
      "mimetype": "text/x-python",
      "name": "python",
      "nbconvert_exporter": "python",
      "pygments_lexer": "ipython3",
      "version": "3.7.6"
    }
  },
  "nbformat": 4,
  "nbformat_minor": 0
}